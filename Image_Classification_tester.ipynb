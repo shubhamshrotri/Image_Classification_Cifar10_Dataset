{
 "cells": [
  {
   "cell_type": "code",
   "execution_count": 1,
   "metadata": {},
   "outputs": [
    {
     "name": "stderr",
     "output_type": "stream",
     "text": [
      "c:\\users\\shubham\\anaconda3\\envs\\tensorflow\\lib\\site-packages\\h5py\\__init__.py:36: FutureWarning: Conversion of the second argument of issubdtype from `float` to `np.floating` is deprecated. In future, it will be treated as `np.float64 == np.dtype(float).type`.\n",
      "  from ._conv import register_converters as _register_converters\n",
      "Using TensorFlow backend.\n"
     ]
    },
    {
     "name": "stdout",
     "output_type": "stream",
     "text": [
      "Enter image file pathname: C:\\Users\\shubham\\Desktop\\a.jpg\n",
      "airplane\n"
     ]
    }
   ],
   "source": [
    "from PIL import Image\n",
    "import numpy as np\n",
    "from keras.models import load_model\n",
    "\n",
    "labels = ['airplane','automobile','bird','cat','deer','dog','frog','ship','truck']\n",
    "\n",
    "model = load_model('Trained_model.h5')\n",
    "\n",
    "input_path = input('Enter image file pathname: ')\n",
    "input_image = Image.open(input_path)\n",
    "input_image = input_image.resize((32,32),resample=Image.LANCZOS)\n",
    "image_array = np.array(input_image)\n",
    "image_array = image_array.astype('float64')\n",
    "image_array /=255.0\n",
    "image_array = image_array.reshape(1,32,32,3)\n",
    "answer = model.predict(image_array)\n",
    "input_image.show()\n",
    "print(labels[np.argmax(answer)])"
   ]
  }
 ],
 "metadata": {
  "kernelspec": {
   "display_name": "Python 3",
   "language": "python",
   "name": "python3"
  },
  "language_info": {
   "codemirror_mode": {
    "name": "ipython",
    "version": 3
   },
   "file_extension": ".py",
   "mimetype": "text/x-python",
   "name": "python",
   "nbconvert_exporter": "python",
   "pygments_lexer": "ipython3",
   "version": "3.5.5"
  }
 },
 "nbformat": 4,
 "nbformat_minor": 2
}
